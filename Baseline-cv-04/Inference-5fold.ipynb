{
 "cells": [
  {
   "cell_type": "code",
   "execution_count": 9,
   "metadata": {},
   "outputs": [],
   "source": [
    "import torch\n",
    "import pandas as pd\n",
    "from tqdm import tqdm\n",
    "from glob import glob\n",
    "from utils.util import *\n",
    "from utils.dataset import MaskTestDataset\n",
    "from model_utils.model import load_model\n",
    "from torch.utils.data import DataLoader\n",
    "import torch.nn.functional as F\n",
    "import numpy as np"
   ]
  },
  {
   "cell_type": "code",
   "execution_count": 16,
   "metadata": {},
   "outputs": [],
   "source": [
    "args = {\n",
    "        \"MODEL\": 'efficientnet-b3', \n",
    "        \"SAVED_DIR\": \"/opt/ml/code/seunghyun/baseline/checkpoint/2022-02-26_19:56:25\", # 추론하고자하는 모델이 저장된 상위 폴더 경로\n",
    "        \"RESIZE\": [312, 312], \n",
    "        \"BATCH_SIZE\": 64,\n",
    "        \"RANDOM_SEED\": 42,\n",
    "        \"DEVICE\": \"cuda\",\n",
    "        \"CRITERION\": 'focal',\n",
    "        \"RANDOM_SEED\": 42,\n",
    "        \"NUM_CLASSES\": 18,\n",
    "}"
   ]
  },
  {
   "cell_type": "code",
   "execution_count": 17,
   "metadata": {},
   "outputs": [
    {
     "data": {
      "text/plain": [
       "['/opt/ml/code/seunghyun/baseline/checkpoint/2022-02-26_19:56:25/Fold1_Epoch8_0.827_cross_entropy.tar',\n",
       " '/opt/ml/code/seunghyun/baseline/checkpoint/2022-02-26_19:56:25/Fold2_Epoch20_0.833_cross_entropy.tar',\n",
       " '/opt/ml/code/seunghyun/baseline/checkpoint/2022-02-26_19:56:25/Fold3_Epoch7_0.806_cross_entropy.tar',\n",
       " '/opt/ml/code/seunghyun/baseline/checkpoint/2022-02-26_19:56:25/Fold4_Epoch12_0.782_cross_entropy.tar',\n",
       " '/opt/ml/code/seunghyun/baseline/checkpoint/2022-02-26_19:56:25/Fold5_Epoch9_0.804_cross_entropy.tar']"
      ]
     },
     "execution_count": 17,
     "metadata": {},
     "output_type": "execute_result"
    }
   ],
   "source": [
    "# 모델 경로 로드\n",
    "save_paths = sorted(glob(args[\"SAVED_DIR\"] + \"/*\"))\n",
    "save_paths"
   ]
  },
  {
   "cell_type": "code",
   "execution_count": 6,
   "metadata": {},
   "outputs": [],
   "source": [
    "\n",
    "# submission file 로드\n",
    "info = pd.read_csv(\"/opt/ml/input/data/eval/info.csv\")\n"
   ]
  },
  {
   "cell_type": "code",
   "execution_count": 7,
   "metadata": {},
   "outputs": [
    {
     "name": "stdout",
     "output_type": "stream",
     "text": [
      "Path: /opt/ml/code/seunghyun/baseline/checkpoint/2022-02-26_19:56:25/Fold3_Epoch7_0.806_cross_entropy.tar\n"
     ]
    },
    {
     "name": "stderr",
     "output_type": "stream",
     "text": [
      "100%|██████████| 197/197 [00:40<00:00,  4.92it/s]\n"
     ]
    },
    {
     "name": "stdout",
     "output_type": "stream",
     "text": [
      "Path: /opt/ml/code/seunghyun/baseline/checkpoint/2022-02-26_19:56:25/Fold2_Epoch20_0.833_cross_entropy.tar\n"
     ]
    },
    {
     "name": "stderr",
     "output_type": "stream",
     "text": [
      "100%|██████████| 197/197 [00:40<00:00,  4.85it/s]\n"
     ]
    },
    {
     "name": "stdout",
     "output_type": "stream",
     "text": [
      "Path: /opt/ml/code/seunghyun/baseline/checkpoint/2022-02-26_19:56:25/Fold5_Epoch9_0.804_cross_entropy.tar\n"
     ]
    },
    {
     "name": "stderr",
     "output_type": "stream",
     "text": [
      "100%|██████████| 197/197 [00:40<00:00,  4.90it/s]\n"
     ]
    },
    {
     "name": "stdout",
     "output_type": "stream",
     "text": [
      "Path: /opt/ml/code/seunghyun/baseline/checkpoint/2022-02-26_19:56:25/Fold4_Epoch12_0.782_cross_entropy.tar\n"
     ]
    },
    {
     "name": "stderr",
     "output_type": "stream",
     "text": [
      "100%|██████████| 197/197 [00:40<00:00,  4.85it/s]\n"
     ]
    },
    {
     "name": "stdout",
     "output_type": "stream",
     "text": [
      "Path: /opt/ml/code/seunghyun/baseline/checkpoint/2022-02-26_19:56:25/Fold1_Epoch8_0.827_cross_entropy.tar\n"
     ]
    },
    {
     "name": "stderr",
     "output_type": "stream",
     "text": [
      "100%|██████████| 197/197 [00:40<00:00,  4.91it/s]"
     ]
    },
    {
     "name": "stdout",
     "output_type": "stream",
     "text": [
      "Inference Done!\n"
     ]
    },
    {
     "name": "stderr",
     "output_type": "stream",
     "text": [
      "\n"
     ]
    }
   ],
   "source": [
    "for idx, path in enumerate(save_paths):\n",
    "    model = load_model(args)\n",
    "    model.to(args[\"DEVICE\"])\n",
    "\n",
    "    checkpoint = torch.load(path)\n",
    "    model.load_state_dict(checkpoint[\"state_dict\"])\n",
    "    model.eval()\n",
    "    print(f\"Path: {path}\")\n",
    "    fold_num = path.split(\"/\")[-1].split(\"_\")[0]\n",
    "    test_dataset = MaskTestDataset(info, get_valid_transform(args))\n",
    "    test_loader = DataLoader(test_dataset, batch_size=64, shuffle=False, num_workers=2, drop_last=False)\n",
    "\n",
    "    preds = []\n",
    "    with torch.no_grad():\n",
    "        for idx, (images, id_) in enumerate(tqdm(test_loader, total=len(test_loader))):\n",
    "            images = images.to(\"cuda\")\n",
    "            pred = model(images)\n",
    "            pred = F.softmax(pred, dim=-1)\n",
    "            preds.extend(pred.detach().cpu().numpy())\n",
    "    info[fold_num] = preds\n",
    "\n",
    "print(f'Inference Done!')\n",
    "info['ans'] = (info['Fold1'] + info['Fold2'] + info['Fold3'] + info['Fold4'] + info['Fold5'])/5\n",
    "sub_info = info.copy()\n",
    "sub_info = sub_info.drop(['Fold1', 'Fold2', 'Fold3', 'Fold4', 'Fold5'], axis=1)\n",
    "sub_info['ans'] = [np.argmax(i) for i in sub_info['ans']]\n",
    "sub_info.to_csv(\"submission/fold_sub.csv\", index=False)"
   ]
  }
 ],
 "metadata": {
  "interpreter": {
   "hash": "57c7efdcf98038d37cb914daec1c212fd35394d4dadea61810a20e953dd64ff2"
  },
  "kernelspec": {
   "display_name": "Python 3.8.12 ('seunghyun')",
   "language": "python",
   "name": "python3"
  },
  "language_info": {
   "codemirror_mode": {
    "name": "ipython",
    "version": 3
   },
   "file_extension": ".py",
   "mimetype": "text/x-python",
   "name": "python",
   "nbconvert_exporter": "python",
   "pygments_lexer": "ipython3",
   "version": "3.8.12"
  },
  "orig_nbformat": 4
 },
 "nbformat": 4,
 "nbformat_minor": 2
}
